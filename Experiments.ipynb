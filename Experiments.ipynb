{
 "cells": [
  {
   "cell_type": "markdown",
   "metadata": {},
   "source": [
    "- DON’T DECAY THE LEARNING RATE, INCREASE THE BATCH SIZE\n",
    "  - [pdf](https://arxiv.org/pdf/1711.00489v1.pdf)"
   ]
  },
  {
   "cell_type": "code",
   "execution_count": 227,
   "metadata": {},
   "outputs": [],
   "source": [
    "import tensorflow as tf\n",
    "import numpy as np\n",
    "%matplotlib inline\n",
    "import matplotlib.pyplot as plt\n",
    "from functools import reduce\n",
    "import os\n",
    "import sys\n",
    "import shutil\n",
    "from cifar import read_data_sets, onehot_to_names"
   ]
  },
  {
   "cell_type": "code",
   "execution_count": 2,
   "metadata": {},
   "outputs": [
    {
     "name": "stdout",
     "output_type": "stream",
     "text": [
      "1.3.0\n"
     ]
    }
   ],
   "source": [
    "print(tf.__version__)"
   ]
  },
  {
   "cell_type": "code",
   "execution_count": 96,
   "metadata": {},
   "outputs": [
    {
     "name": "stdout",
     "output_type": "stream",
     "text": [
      "Wed Nov 22 04:57:27 2017       \r\n",
      "+-----------------------------------------------------------------------------+\r\n",
      "| NVIDIA-SMI 370.28                 Driver Version: 370.28                    |\r\n",
      "|-------------------------------+----------------------+----------------------+\r\n",
      "| GPU  Name        Persistence-M| Bus-Id        Disp.A | Volatile Uncorr. ECC |\r\n",
      "| Fan  Temp  Perf  Pwr:Usage/Cap|         Memory-Usage | GPU-Util  Compute M. |\r\n",
      "|===============================+======================+======================|\r\n",
      "|   0  GeForce GTX 980 Ti  Off  | 0000:02:00.0     Off |                  N/A |\r\n",
      "|  0%   55C    P8    33W / 275W |   5916MiB /  6076MiB |      0%      Default |\r\n",
      "+-------------------------------+----------------------+----------------------+\r\n",
      "                                                                               \r\n",
      "+-----------------------------------------------------------------------------+\r\n",
      "| Processes:                                                       GPU Memory |\r\n",
      "|  GPU       PID  Type  Process name                               Usage      |\r\n",
      "|=============================================================================|\r\n",
      "+-----------------------------------------------------------------------------+\r\n"
     ]
    }
   ],
   "source": [
    "!nvidia-smi"
   ]
  },
  {
   "cell_type": "code",
   "execution_count": 3,
   "metadata": {},
   "outputs": [
    {
     "name": "stdout",
     "output_type": "stream",
     "text": [
      "cifar data directory found data/cifar-10-batches-py\n",
      "loading data...\n",
      "dtype is float, normalize images to [0, 1]\n",
      "dtype is float, normalize images to [0, 1]\n",
      "dtype is float, normalize images to [0, 1]\n"
     ]
    }
   ],
   "source": [
    "cifar_data = read_data_sets(\"data\", one_hot=True)"
   ]
  },
  {
   "cell_type": "code",
   "execution_count": 4,
   "metadata": {},
   "outputs": [
    {
     "data": {
      "text/plain": [
       "45241"
      ]
     },
     "execution_count": 4,
     "metadata": {},
     "output_type": "execute_result"
    }
   ],
   "source": [
    "cifar_data.train.num_examples"
   ]
  },
  {
   "cell_type": "code",
   "execution_count": 5,
   "metadata": {},
   "outputs": [
    {
     "data": {
      "text/plain": [
       "4759"
      ]
     },
     "execution_count": 5,
     "metadata": {},
     "output_type": "execute_result"
    }
   ],
   "source": [
    "cifar_data.validation.num_examples"
   ]
  },
  {
   "cell_type": "code",
   "execution_count": 6,
   "metadata": {},
   "outputs": [
    {
     "data": {
      "text/plain": [
       "<matplotlib.image.AxesImage at 0x7fa78e50b828>"
      ]
     },
     "execution_count": 6,
     "metadata": {},
     "output_type": "execute_result"
    },
    {
     "data": {
      "image/png": "[encoded data removed]",
      "text/plain": [
       "<matplotlib.figure.Figure at 0x7fa78e569550>"
      ]
     },
     "metadata": {},
     "output_type": "display_data"
    }
   ],
   "source": [
    "plt.axis('off')\n",
    "plt.title(onehot_to_names(cifar_data.train.labels[0])[0])\n",
    "plt.imshow(cifar_data.train.images[0].reshape((32, 32, 3)))"
   ]
  },
  {
   "cell_type": "code",
   "execution_count": 7,
   "metadata": {},
   "outputs": [
    {
     "data": {
      "text/plain": [
       "array([ 0.,  0.,  0.,  0.,  0.,  0.,  1.,  0.,  0.,  0.])"
      ]
     },
     "execution_count": 7,
     "metadata": {},
     "output_type": "execute_result"
    }
   ],
   "source": [
    "cifar_data.train.labels[0]"
   ]
  },
  {
   "cell_type": "code",
   "execution_count": 8,
   "metadata": {},
   "outputs": [],
   "source": [
    "def get_conv_filter(width, height, in_channels, out_channels,\n",
    "                     dtype=tf.float32, initializer=None, seed=None, name=None):\n",
    "    \"\"\"\n",
    "    arguments\n",
    "    =========\n",
    "    - width: int, filter width\n",
    "    - height: int, filter height\n",
    "    - in_channels: int, input channel\n",
    "    - out_channels: int, output channel\n",
    "    - dtype: data type\n",
    "    - initializer: filter initializer\n",
    "    - seed: random seed of the initializer\n",
    "    \"\"\"\n",
    "    if initializer is None:\n",
    "        initializer = tf.glorot_normal_initializer(seed=seed, dtype=dtype)\n",
    "    filter_shape = [width, height, in_channels, out_channels]\n",
    "    return tf.Variable(initializer(shape=filter_shape), name=name)"
   ]
  },
  {
   "cell_type": "code",
   "execution_count": 110,
   "metadata": {},
   "outputs": [],
   "source": [
    "def build_model(images_batch, num_class=10, graph=None):\n",
    "    \"\"\"\n",
    "    Simple VGG-like model\n",
    "    \n",
    "    Arguments\n",
    "    =========\n",
    "    - images_batch: placeholder for batch images (NHWC)\n",
    "    - graph: the graph to build model within.\n",
    "    \"\"\"\n",
    "    if graph is None:\n",
    "        graph = images_batch.graph\n",
    "    \n",
    "    initializer = tf.glorot_normal_initializer(dtype=tf.float32)\n",
    "    with graph.as_default():\n",
    "        # conv1\n",
    "        with tf.name_scope(\"conv1\"):\n",
    "            filter_1 = get_conv_filter(3, 3, 3, 32, \n",
    "                                       name=\"filter\", \n",
    "                                       initializer=initializer)\n",
    "            fmap1 = tf.nn.conv2d(images_batch, filter_1, \n",
    "                                 strides=[1, 2, 2, 1],\n",
    "                                 padding=\"VALID\", name=\"feature_map\")\n",
    "            act1 = tf.nn.relu(fmap1, name=\"activation\")\n",
    "    \n",
    "        # conv2\n",
    "        with tf.name_scope(\"conv2\"):\n",
    "            filter_2 = get_conv_filter(3, 3, 32, 32, \n",
    "                                       name=\"filter\", \n",
    "                                       initializer=initializer)\n",
    "            fmap2 = tf.nn.conv2d(act1, filter_2,\n",
    "                                 strides=[1, 2, 2, 1],\n",
    "                                 padding=\"VALID\", name=\"feature_map\")\n",
    "            act2 = tf.nn.relu(fmap2, name=\"activation\")\n",
    "    \n",
    "        # max_pool\n",
    "        with tf.name_scope(\"pool1\"):\n",
    "            pool = tf.nn.max_pool(act2, ksize=[1, 2, 2, 1], strides=[1, 1, 1, 1], padding=\"VALID\")\n",
    "            \n",
    "        # 1x1 conv\n",
    "        with tf.name_scope(\"conv3_1_by_1\"):\n",
    "            filter_3 = get_conv_filter(1, 1, 32, 16, \n",
    "                                       name=\"filter\", \n",
    "                                       initializer=initializer)\n",
    "            fmap3 = tf.nn.conv2d(pool, filter_3,\n",
    "                                 strides=[1, 1, 1, 1],\n",
    "                                 padding=\"SAME\", name=\"feature_map\")\n",
    "            \n",
    "        # fc layer\n",
    "        fc_dim = reduce(lambda acc, d: acc*d, fmap3.shape.as_list()[1:], 1)\n",
    "        with tf.name_scope(\"fc1\"):\n",
    "            flat_fmap3 = tf.reshape(fmap3, [-1, fc_dim])\n",
    "            w1 = tf.Variable(initializer(shape=[fc_dim, 512]), \n",
    "                             dtype=tf.float32,\n",
    "                             name=\"weight\")\n",
    "            b1 = tf.Variable(np.zeros(512), dtype=tf.float32, name=\"bias\")\n",
    "            z1 = tf.nn.bias_add(tf.matmul(flat_fmap3, w1), b1, name=\"z_score\")\n",
    "            act_fc1 = tf.nn.relu(z1)\n",
    "        \n",
    "        with tf.name_scope(\"fc2\"):\n",
    "            w2 = tf.Variable(initializer(shape=[512, num_class]),\n",
    "                             dtype=tf.float32,\n",
    "                             name=\"weight\")\n",
    "            b2 = tf.Variable(np.zeros(num_class), dtype=tf.float32, name=\"bias\")\n",
    "            logits = tf.nn.bias_add(tf.matmul(act_fc1, w2), b2, name=\"logits\")\n",
    "        with tf.name_scope(\"prediction\"):\n",
    "            prob = tf.nn.softmax(logits, name=\"probability\")\n",
    "            pred = tf.argmax(prob, axis=1, name=\"pred_label\")\n",
    "    return graph, logits, prob, pred"
   ]
  },
  {
   "cell_type": "code",
   "execution_count": 111,
   "metadata": {},
   "outputs": [],
   "source": [
    "class ValueUpdator(object):\n",
    "    \n",
    "    def __init__(self, init_value, grow_rate):\n",
    "        self.grow_rate = grow_rate\n",
    "        self._current_value = init_value\n",
    "        self._init_value = init_value\n",
    "    \n",
    "    def get_current_value(self, max_value=None, dtype=int):\n",
    "        if max_value and self._current_value >= max_value:\n",
    "            current_value = max_value\n",
    "            self._current_value = max_value\n",
    "        else:\n",
    "            current_value = self._current_value\n",
    "            self._current_value *= self.grow_rate\n",
    "        return dtype(current_value)\n",
    "    \n",
    "    def reset(self):\n",
    "        self._current_value = self._init_value\n",
    "    \n",
    "    def __str__(self):\n",
    "        return \"ValueUpdator: {}\".format(self._current_value)"
   ]
  },
  {
   "cell_type": "code",
   "execution_count": 112,
   "metadata": {},
   "outputs": [],
   "source": [
    "x = np.arange(0, 500)\n",
    "y = 50*np.array(1.011)**x"
   ]
  },
  {
   "cell_type": "code",
   "execution_count": 113,
   "metadata": {},
   "outputs": [
    {
     "data": {
      "text/plain": [
       "3975.8705951757797"
      ]
     },
     "execution_count": 113,
     "metadata": {},
     "output_type": "execute_result"
    }
   ],
   "source": [
    "y[400]"
   ]
  },
  {
   "cell_type": "code",
   "execution_count": 114,
   "metadata": {},
   "outputs": [
    {
     "data": {
      "text/plain": [
       "[<matplotlib.lines.Line2D at 0x7fa8020a7940>]"
      ]
     },
     "execution_count": 114,
     "metadata": {},
     "output_type": "execute_result"
    },
    {
     "data": {
      "image/png": "[encoded data removed]",
      "text/plain": [
       "<matplotlib.figure.Figure at 0x7fa801ed46d8>"
      ]
     },
     "metadata": {},
     "output_type": "display_data"
    }
   ],
   "source": [
    "plt.plot(x, y)"
   ]
  },
  {
   "cell_type": "code",
   "execution_count": 115,
   "metadata": {},
   "outputs": [],
   "source": [
    "batch_updator = ValueUpdator(50, 1.011) # grow the size by 1.2% for every batch"
   ]
  },
  {
   "cell_type": "code",
   "execution_count": 116,
   "metadata": {},
   "outputs": [
    {
     "data": {
      "text/plain": [
       "[<matplotlib.lines.Line2D at 0x7fa8020558d0>]"
      ]
     },
     "execution_count": 116,
     "metadata": {},
     "output_type": "execute_result"
    },
    {
     "data": {
      "image/png": "[encoded data removed]",
      "text/plain": [
       "<matplotlib.figure.Figure at 0x7fa8020b4198>"
      ]
     },
     "metadata": {},
     "output_type": "display_data"
    }
   ],
   "source": [
    "plt.plot([batch_updator.get_current_value(max_value=4524) for _ in range(500)])"
   ]
  },
  {
   "cell_type": "markdown",
   "metadata": {},
   "source": [
    "----\n",
    "\n",
    "## Check Model\n",
    "\n",
    "- overfitting on a small dataset"
   ]
  },
  {
   "cell_type": "code",
   "execution_count": 117,
   "metadata": {},
   "outputs": [],
   "source": [
    "def accuracy(y, y_):\n",
    "    return (y == y_).mean()"
   ]
  },
  {
   "cell_type": "code",
   "execution_count": 118,
   "metadata": {},
   "outputs": [],
   "source": [
    "graph = tf.Graph()\n",
    "with graph.as_default():\n",
    "    tf_image_batch = tf.placeholder(tf.float32, \n",
    "                                    [None, 32, 32, 3], \n",
    "                                    name=\"image_batch\")\n",
    "_, tf_logits, tf_prob, tf_pred = build_model(tf_image_batch, graph=graph)"
   ]
  },
  {
   "cell_type": "code",
   "execution_count": 119,
   "metadata": {},
   "outputs": [],
   "source": [
    "with graph.as_default():\n",
    "    # cross-entropy loss\n",
    "    tf_labels = tf.placeholder(tf.float32, shape=[None, 10], name=\"true_labels\")\n",
    "    with tf.name_scope(\"loss\"):\n",
    "        tf_entropy = tf.nn.softmax_cross_entropy_with_logits(logits=tf_logits,\n",
    "                                                             labels=tf_labels,\n",
    "                                                             name=\"entropy\")\n",
    "        tf_loss = tf.reduce_mean(tf_entropy, name=\"mean_loss\")\n",
    "    \n",
    "    # training\n",
    "    train_op = tf.train.GradientDescentOptimizer(0.01).minimize(tf_loss, name=\"minimize\")"
   ]
  },
  {
   "cell_type": "code",
   "execution_count": 120,
   "metadata": {},
   "outputs": [
    {
     "name": "stdout",
     "output_type": "stream",
     "text": [
      "remove old log directory\n"
     ]
    }
   ],
   "source": [
    "if os.path.exists(\"log/simple_cnn\"):\n",
    "    print(\"remove old log directory\")\n",
    "    shutil.rmtree(\"log/simple_cnn\")\n",
    "\n",
    "tf.summary.FileWriter(logdir=\"log/simple_cnn\", graph=graph).close()"
   ]
  },
  {
   "cell_type": "markdown",
   "metadata": {},
   "source": [
    "![simple-cnn](images/simple_cnn.png)"
   ]
  },
  {
   "cell_type": "code",
   "execution_count": 121,
   "metadata": {},
   "outputs": [
    {
     "name": "stdout",
     "output_type": "stream",
     "text": [
      "cifar data directory found data/cifar-10-batches-py\n",
      "loading data...\n",
      "dtype is float, normalize images to [0, 1]\n",
      "dtype is float, normalize images to [0, 1]\n",
      "dtype is float, normalize images to [0, 1]\n"
     ]
    }
   ],
   "source": [
    "# a small batch of data\n",
    "cifar_data = read_data_sets(\"data\", one_hot=True)\n",
    "sb_images, sb_labels = cifar_data.train.next_batch(1000)\n",
    "sb_images = sb_images.reshape((-1, 32, 32, 3))"
   ]
  },
  {
   "cell_type": "code",
   "execution_count": 122,
   "metadata": {},
   "outputs": [
    {
     "name": "stdout",
     "output_type": "stream",
     "text": [
      "step: 500\n",
      "loss: 2.00309\n",
      "  accuracy: 0.288\n",
      "step: 1000\n",
      "loss: 1.66171\n",
      "  accuracy: 0.43\n",
      "step: 1500\n",
      "loss: 1.3359\n",
      "  accuracy: 0.529\n",
      "step: 2000\n",
      "loss: 0.929563\n",
      "  accuracy: 0.692\n",
      "step: 2500\n",
      "loss: 0.442397\n",
      "  accuracy: 0.875\n",
      "step: 3000\n",
      "loss: 0.0777538\n",
      "  accuracy: 0.999\n",
      "step: 3500\n",
      "loss: 0.0279402\n",
      "  accuracy: 1.0\n",
      "step: 4000\n",
      "loss: 0.0145205\n",
      "  accuracy: 1.0\n"
     ]
    }
   ],
   "source": [
    "num_iters = 4000\n",
    "with tf.Session(graph=graph) as sess:\n",
    "    tf.global_variables_initializer().run()\n",
    "    \n",
    "    feed_dict = {tf_image_batch: sb_images,\n",
    "                 tf_labels: sb_labels}\n",
    "    true_pred = np.argmax(sb_labels, axis=1)\n",
    "    for step in range(1, num_iters+1):\n",
    "        _, loss, pred = sess.run([train_op, tf_loss, tf_pred], feed_dict=feed_dict)\n",
    "        if step % 500 == 0:\n",
    "            print(\"step:\", step)\n",
    "            print(\"loss:\", loss)\n",
    "            print(\"  accuracy:\", accuracy(pred, true_pred))"
   ]
  },
  {
   "cell_type": "markdown",
   "metadata": {},
   "source": [
    "Ok, it seems like my model now can overfit small data.\n",
    "\n",
    "So my model capacity should be OK.....Maybe XDD\n",
    "\n",
    "Let's go for more training!"
   ]
  },
  {
   "cell_type": "markdown",
   "metadata": {},
   "source": [
    "-----\n",
    "\n",
    "## Learning Rate Decay\n",
    "\n",
    "- \"batch size is constant\"\n",
    "- \"learning rate repeatedly decays by a factor of 5 at a sequence of steps\"\n",
    "  - It seems like they decrease the learning rate by factor 5 at every steps, but according to my experience it may be too aggressive for my simple cnn.\n",
    "  - So I decide to not to do exactly as what the paper did here."
   ]
  },
  {
   "cell_type": "code",
   "execution_count": 245,
   "metadata": {},
   "outputs": [],
   "source": [
    "lrd_graph = tf.Graph()\n",
    "with lrd_graph.as_default():\n",
    "    # placeholders\n",
    "    lrd_image_batch = tf.placeholder(tf.float32, shape=[None, 32, 32, 3], name=\"images\")\n",
    "    lrd_labels = tf.placeholder(tf.float32, shape=[None, 10], name=\"labels\")\n",
    "    lrd_learn_rate = tf.placeholder(tf.float32, name=\"learn_rate\")\n",
    "_, lrd_logits, lrd_prob, lrd_pred = build_model(lrd_image_batch, graph=lrd_graph)\n",
    "\n",
    "with lrd_graph.as_default():\n",
    "    # cross-entropy loss\n",
    "    with tf.name_scope(\"loss\"):\n",
    "        lrd_entropy = tf.nn.softmax_cross_entropy_with_logits(logits=lrd_logits,\n",
    "                                                              labels=lrd_labels,\n",
    "                                                              name=\"entropy\")\n",
    "        lrd_loss = tf.reduce_mean(lrd_entropy, name=\"mean_loss\")\n",
    "    # training\n",
    "    lrd_train_op = tf.train.GradientDescentOptimizer(lrd_learn_rate).minimize(lrd_loss, name=\"minimize\")\n",
    "    \n",
    "    # summarize gradients\n",
    "    with tf.name_scope(\"summarize\"):\n",
    "        grads = tf.gradients(lrd_loss, tf.trainable_variables())\n",
    "        for grad in grads:\n",
    "            tf.summary.histogram(grad.op.name, grad)\n",
    "        summary_all = tf.summary.merge_all()"
   ]
  },
  {
   "cell_type": "code",
   "execution_count": 246,
   "metadata": {},
   "outputs": [
    {
     "name": "stdout",
     "output_type": "stream",
     "text": [
      "remove old log directory: log/lrd_graph/lr_0.1_0.9\n"
     ]
    }
   ],
   "source": [
    "num_epochs = 150\n",
    "batch_size = 128\n",
    "lr_init = 0.1\n",
    "lr_decay = 0.9\n",
    "\n",
    "logdir = \"log/lrd_graph/lr_{}_{}\".format(lr_init, lr_decay)\n",
    "if os.path.exists(logdir):\n",
    "    print(\"remove old log directory:\", logdir)\n",
    "    shutil.rmtree(logdir)\n",
    "train_writer = tf.summary.FileWriter(logdir=logdir, graph=lrd_graph)"
   ]
  },
  {
   "cell_type": "code",
   "execution_count": 247,
   "metadata": {},
   "outputs": [
    {
     "name": "stdout",
     "output_type": "stream",
     "text": [
      "cifar data directory found data/cifar-10-batches-py\n",
      "loading data...\n",
      "dtype is float, normalize images to [0, 1]\n",
      "dtype is float, normalize images to [0, 1]\n",
      "dtype is float, normalize images to [0, 1]\n",
      "clossing log/lrd_graph/lr_0.1_0.9/train_log.txt\n"
     ]
    }
   ],
   "source": [
    "lrd_loss_history = []\n",
    "lrd_test_acc_history = []\n",
    "data_set = read_data_sets(\"data\", one_hot=True)\n",
    "\n",
    "lr_updator = ValueUpdator(init_value=lr_init, grow_rate=lr_decay)\n",
    "test_images = data_set.test.images.reshape((-1, 32, 32, 3))\n",
    "test_pred = np.argmax(data_set.test.labels, axis=1)\n",
    "log_file = open(os.path.join(logdir, \"train_log.txt\"), \"w\")\n",
    "\n",
    "try:\n",
    "    with tf.Session(graph=lrd_graph) as sess:\n",
    "        tf.global_variables_initializer().run()\n",
    "\n",
    "        for epoch in range(1, num_epochs+1):\n",
    "            current_epoch = data_set.train.epochs_completed\n",
    "            current_lr = lr_updator.get_current_value(dtype=float)\n",
    "            print(\"current learning rate:\", current_lr, file=log_file, flush=True)\n",
    "            batch_count = 0\n",
    "            while data_set.train.epochs_completed <= current_epoch:\n",
    "                batch_images, batch_labels = data_set.train.next_batch(batch_size)\n",
    "                batch_images = batch_images.reshape((-1, 32, 32, 3))\n",
    "                batch_count += 1\n",
    "                feed_dict = {lrd_image_batch: batch_images,\n",
    "                             lrd_labels: batch_labels,\n",
    "                             lrd_learn_rate: current_lr}\n",
    "                _, loss = sess.run([lrd_train_op, lrd_loss], feed_dict=feed_dict)\n",
    "                lrd_loss_history.append(loss) # collect all batch training loss\n",
    "                if batch_count % 500 == 0:\n",
    "                    # logging validation loss and accuracy\n",
    "                    feed_dict = {lrd_image_batch: data_set.validation.images.reshape((-1, 32, 32, 3)),\n",
    "                                 lrd_labels: data_set.validation.labels}\n",
    "                    pred = sess.run(lrd_pred, feed_dict=feed_dict)\n",
    "                    true_pred = np.argmax(data_set.validation.labels, axis=1)\n",
    "                    print(\"batch count:\", batch_count, file=log_file, flush=True)\n",
    "                    print(\"  loss:\", loss, file=log_file, flush=True)\n",
    "                    print(\"  accuracy:\", accuracy(pred, true_pred), file=log_file, flush=True)\n",
    "            summ_all = sess.run(summary_all, feed_dict=feed_dict)\n",
    "            train_writer.add_summary(summ_all, epoch)\n",
    "            # compute test accuracy\n",
    "            feed_dict = {lrd_image_batch: data_set.test.images.reshape((-1, 32, 32, 3)),\n",
    "                         lrd_labels: data_set.test.labels}\n",
    "            loss, pred = sess.run([lrd_loss, lrd_pred], feed_dict=feed_dict)\n",
    "            acc = accuracy(pred, test_pred)\n",
    "            lrd_test_acc_history.append(acc)\n",
    "            print(\"epoch {} done\".format(epoch), file=log_file, flush=True)\n",
    "            print(\"  test loss: {:.2f}\".format(loss), file=log_file, flush=True)\n",
    "            print(\"  accuracy: {:.4f}\".format(acc), file=log_file, flush=True)\n",
    "except BaseException as e:\n",
    "    print(type(e))\n",
    "    print(e)\n",
    "finally:\n",
    "    if not log_file is sys.stdout:\n",
    "        print(\"clossing {}\".format(log_file.name))\n",
    "        log_file.close()"
   ]
  },
  {
   "cell_type": "code",
   "execution_count": 255,
   "metadata": {},
   "outputs": [
    {
     "data": {
      "image/png": "[encoded data removed]",
      "text/plain": [
       "<matplotlib.figure.Figure at 0x7fa778134f28>"
      ]
     },
     "metadata": {},
     "output_type": "display_data"
    }
   ],
   "source": [
    "plt.subplot(1, 2, 1)\n",
    "plt.title(\"train loss\")\n",
    "plt.plot(lrd_loss_history)\n",
    "\n",
    "plt.subplot(1, 2, 2)\n",
    "plt.title(\"accuracy\")\n",
    "plt.plot(lrd_test_acc_history)\n",
    "fig = plt.gcf()\n",
    "fig.set_size_inches((15, 5))"
   ]
  },
  {
   "cell_type": "markdown",
   "metadata": {},
   "source": [
    "----\n",
    "\n",
    "## Increasing Batch Size "
   ]
  },
  {
   "cell_type": "code",
   "execution_count": 256,
   "metadata": {},
   "outputs": [],
   "source": [
    "ibs_graph = tf.Graph()\n",
    "with ibs_graph.as_default():\n",
    "    # placeholders\n",
    "    ibs_image_batch = tf.placeholder(tf.float32, shape=[None, 32, 32, 3], name=\"images\")\n",
    "    ibs_labels = tf.placeholder(tf.float32, shape=[None, 10], name=\"labels\")\n",
    "_, ibs_logits, ibs_prob, ibs_pred = build_model(ibs_image_batch, graph=ibs_graph)"
   ]
  },
  {
   "cell_type": "code",
   "execution_count": null,
   "metadata": {},
   "outputs": [],
   "source": []
  }
 ],
 "metadata": {
  "kernelspec": {
   "display_name": "Python 3",
   "language": "python",
   "name": "python3"
  },
  "language_info": {
   "codemirror_mode": {
    "name": "ipython",
    "version": 3
   },
   "file_extension": ".py",
   "mimetype": "text/x-python",
   "name": "python",
   "nbconvert_exporter": "python",
   "pygments_lexer": "ipython3",
   "version": "3.5.2"
  }
 },
 "nbformat": 4,
 "nbformat_minor": 2
}
