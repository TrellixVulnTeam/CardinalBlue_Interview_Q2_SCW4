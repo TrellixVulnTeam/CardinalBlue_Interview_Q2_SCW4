{
 "cells": [
  {
   "cell_type": "code",
   "execution_count": 2,
   "metadata": {},
   "outputs": [],
   "source": [
    "import tensorflow as tf\n",
    "import numpy as np\n",
    "%matplotlib inline\n",
    "import matplotlib.pyplot as plt\n",
    "from functools import reduce\n",
    "import os\n",
    "import shutil\n",
    "from cifar import read_data_sets, onehot_to_names"
   ]
  },
  {
   "cell_type": "code",
   "execution_count": 3,
   "metadata": {},
   "outputs": [
    {
     "name": "stdout",
     "output_type": "stream",
     "text": [
      "cifar data directory found data/cifar-10-batches-py\n",
      "loading data...\n",
      "dtype is float, normalize images to [0, 1]\n",
      "dtype is float, normalize images to [0, 1]\n",
      "dtype is float, normalize images to [0, 1]\n"
     ]
    }
   ],
   "source": [
    "cifar_data = read_data_sets(\"data\", one_hot=True)"
   ]
  },
  {
   "cell_type": "code",
   "execution_count": 4,
   "metadata": {},
   "outputs": [
    {
     "data": {
      "text/plain": [
       "45245"
      ]
     },
     "execution_count": 4,
     "metadata": {},
     "output_type": "execute_result"
    }
   ],
   "source": [
    "cifar_data.train.num_examples"
   ]
  },
  {
   "cell_type": "code",
   "execution_count": 5,
   "metadata": {},
   "outputs": [
    {
     "data": {
      "text/plain": [
       "4755"
      ]
     },
     "execution_count": 5,
     "metadata": {},
     "output_type": "execute_result"
    }
   ],
   "source": [
    "cifar_data.validation.num_examples"
   ]
  },
  {
   "cell_type": "code",
   "execution_count": 12,
   "metadata": {},
   "outputs": [
    {
     "data": {
      "text/plain": [
       "<matplotlib.image.AxesImage at 0x115f7bc50>"
      ]
     },
     "execution_count": 12,
     "metadata": {},
     "output_type": "execute_result"
    },
    {
     "data": {
      "image/png": "[encoded data removed]",
      "text/plain": [
       "<matplotlib.figure.Figure at 0x11662f9e8>"
      ]
     },
     "metadata": {},
     "output_type": "display_data"
    }
   ],
   "source": [
    "plt.axis('off')\n",
    "plt.title(onehot_to_names(cifar_data.train.labels[0])[0])\n",
    "plt.imshow(cifar_data.train.images[0].reshape((32, 32, 3)))"
   ]
  },
  {
   "cell_type": "code",
   "execution_count": 13,
   "metadata": {},
   "outputs": [
    {
     "data": {
      "text/plain": [
       "array([ 0.,  0.,  0.,  0.,  0.,  0.,  1.,  0.,  0.,  0.])"
      ]
     },
     "execution_count": 13,
     "metadata": {},
     "output_type": "execute_result"
    }
   ],
   "source": [
    "cifar_data.train.labels[0]"
   ]
  },
  {
   "cell_type": "code",
   "execution_count": 19,
   "metadata": {},
   "outputs": [],
   "source": [
    "def get_conv_filter(width, height, in_channels, out_channels,\n",
    "                     dtype=tf.float32, initializer=None, seed=None, name=None):\n",
    "    \"\"\"\n",
    "    arguments\n",
    "    =========\n",
    "    - width: int, filter width\n",
    "    - height: int, filter height\n",
    "    - in_channels: int, input channel\n",
    "    - out_channels: int, output channel\n",
    "    - dtype: data type\n",
    "    - initializer: filter initializer\n",
    "    - seed: random seed of the initializer\n",
    "    \"\"\"\n",
    "    if initializer is None:\n",
    "        initializer = tf.glorot_normal_initializer(seed=seed, dtype=dtype)\n",
    "    filter_shape = [width, height, in_channels, out_channels]\n",
    "    return tf.Variable(initializer(shape=filter_shape), name=name)"
   ]
  },
  {
   "cell_type": "code",
   "execution_count": 20,
   "metadata": {},
   "outputs": [],
   "source": [
    "def build_model(images_batch, num_class=10, graph=None):\n",
    "    \"\"\"\n",
    "    Simple VGG-like model\n",
    "    \n",
    "    Arguments\n",
    "    =========\n",
    "    - images_batch: placeholder for batch images (NHWC)\n",
    "    - graph: the graph to build model within.\n",
    "    \"\"\"\n",
    "    if graph is None:\n",
    "        graph = tf.get_default_graph()\n",
    "    \n",
    "    initializer = tf.glorot_normal_initializer(dtype=tf.float32)\n",
    "    with graph.as_default():\n",
    "        # conv1\n",
    "        with tf.name_scope(\"conv1\"):\n",
    "            filter_1 = get_conv_filter(3, 3, 3, 32, \n",
    "                                       name=\"filter\", \n",
    "                                       initializer=initializer)\n",
    "            fmap1 = tf.nn.conv2d(images_batch, filter_1, \n",
    "                                 strides=[1, 2, 2, 1],\n",
    "                                 padding=\"VALID\", name=\"feature_map\")\n",
    "            act1 = tf.nn.relu(fmap1, name=\"activation\")\n",
    "    \n",
    "        # conv2\n",
    "        with tf.name_scope(\"conv2\"):\n",
    "            filter_2 = get_conv_filter(3, 3, 32, 32, \n",
    "                                       name=\"filter\", \n",
    "                                       initializer=initializer)\n",
    "            fmap2 = tf.nn.conv2d(act1, filter_2,\n",
    "                                 strides=[1, 2, 2, 1],\n",
    "                                 padding=\"VALID\", name=\"feature_map\")\n",
    "            act2 = tf.nn.relu(fmap2, name=\"activation\")\n",
    "    \n",
    "        # max_pool\n",
    "        with tf.name_scope(\"pool1\"):\n",
    "            pool = tf.nn.max_pool(act2, ksize=[1, 2, 2, 1], strides=[1, 1, 1, 1], padding=\"VALID\")\n",
    "            \n",
    "        # 1x1 conv\n",
    "        with tf.name_scope(\"conv3_1_by_1\"):\n",
    "            filter_3 = get_conv_filter(1, 1, 32, 16, \n",
    "                                       name=\"filter\", \n",
    "                                       initializer=initializer)\n",
    "            fmap3 = tf.nn.conv2d(pool, filter_3,\n",
    "                                 strides=[1, 1, 1, 1],\n",
    "                                 padding=\"SAME\", name=\"feature_map\")\n",
    "            \n",
    "        # fc layer\n",
    "        fc_dim = reduce(lambda acc, d: acc*d, fmap3.shape.as_list()[1:], 1)\n",
    "        with tf.name_scope(\"fc1\"):\n",
    "            flat_fmap3 = tf.reshape(fmap3, [-1, fc_dim])\n",
    "            w1 = tf.Variable(initializer(shape=[fc_dim, 512]), \n",
    "                             dtype=tf.float32,\n",
    "                             name=\"weight\")\n",
    "            b1 = tf.Variable(np.zeros(512), dtype=tf.float32, name=\"bias\")\n",
    "            z1 = tf.nn.bias_add(tf.matmul(flat_fmap3, w1), b1, name=\"z_score\")\n",
    "            act_fc1 = tf.nn.relu(z1)\n",
    "        \n",
    "        with tf.name_scope(\"fc2\"):\n",
    "            w2 = tf.Variable(initializer(shape=[512, num_class]),\n",
    "                             dtype=tf.float32,\n",
    "                             name=\"weight\")\n",
    "            b2 = tf.Variable(np.zeros(num_class), dtype=tf.float32, name=\"bias\")\n",
    "            logits = tf.nn.bias_add(tf.matmul(act_fc1, w2), b2, name=\"logits\") \n",
    "    return graph"
   ]
  },
  {
   "cell_type": "code",
   "execution_count": 21,
   "metadata": {},
   "outputs": [],
   "source": [
    "img_width, img_height = 32, 32"
   ]
  },
  {
   "cell_type": "code",
   "execution_count": 22,
   "metadata": {},
   "outputs": [],
   "source": [
    "graph = tf.Graph()\n",
    "with graph.as_default():\n",
    "    image_batch = tf.placeholder(tf.float32, [None, img_width, img_height, 3], name=\"image_batch\")\n",
    "_ = build_model(image_batch, graph=graph)"
   ]
  },
  {
   "cell_type": "code",
   "execution_count": 23,
   "metadata": {},
   "outputs": [
    {
     "name": "stdout",
     "output_type": "stream",
     "text": [
      "image_batch Placeholder\n",
      "conv1/truncated_normal/shape Const\n",
      "conv1/truncated_normal/mean Const\n",
      "conv1/truncated_normal/stddev Const\n",
      "conv1/truncated_normal/TruncatedNormal TruncatedNormal\n",
      "conv1/truncated_normal/mul Mul\n",
      "conv1/truncated_normal Add\n",
      "conv1/filter VariableV2\n",
      "conv1/filter/Assign Assign\n",
      "conv1/filter/read Identity\n",
      "conv1/feature_map Conv2D\n",
      "conv1/activation Relu\n",
      "conv2/truncated_normal/shape Const\n",
      "conv2/truncated_normal/mean Const\n",
      "conv2/truncated_normal/stddev Const\n",
      "conv2/truncated_normal/TruncatedNormal TruncatedNormal\n",
      "conv2/truncated_normal/mul Mul\n",
      "conv2/truncated_normal Add\n",
      "conv2/filter VariableV2\n",
      "conv2/filter/Assign Assign\n",
      "conv2/filter/read Identity\n",
      "conv2/feature_map Conv2D\n",
      "conv2/activation Relu\n",
      "pool1/MaxPool MaxPool\n",
      "conv3_1_by_1/truncated_normal/shape Const\n",
      "conv3_1_by_1/truncated_normal/mean Const\n",
      "conv3_1_by_1/truncated_normal/stddev Const\n",
      "conv3_1_by_1/truncated_normal/TruncatedNormal TruncatedNormal\n",
      "conv3_1_by_1/truncated_normal/mul Mul\n",
      "conv3_1_by_1/truncated_normal Add\n",
      "conv3_1_by_1/filter VariableV2\n",
      "conv3_1_by_1/filter/Assign Assign\n",
      "conv3_1_by_1/filter/read Identity\n",
      "conv3_1_by_1/feature_map Conv2D\n",
      "fc1/Reshape/shape Const\n",
      "fc1/Reshape Reshape\n",
      "fc1/truncated_normal/shape Const\n",
      "fc1/truncated_normal/mean Const\n",
      "fc1/truncated_normal/stddev Const\n",
      "fc1/truncated_normal/TruncatedNormal TruncatedNormal\n",
      "fc1/truncated_normal/mul Mul\n",
      "fc1/truncated_normal Add\n",
      "fc1/weight VariableV2\n",
      "fc1/weight/Assign Assign\n",
      "fc1/weight/read Identity\n",
      "fc1/bias/initial_value Const\n",
      "fc1/bias VariableV2\n",
      "fc1/bias/Assign Assign\n",
      "fc1/bias/read Identity\n",
      "fc1/MatMul MatMul\n",
      "fc1/z_score BiasAdd\n",
      "fc1/Relu Relu\n",
      "fc2/truncated_normal/shape Const\n",
      "fc2/truncated_normal/mean Const\n",
      "fc2/truncated_normal/stddev Const\n",
      "fc2/truncated_normal/TruncatedNormal TruncatedNormal\n",
      "fc2/truncated_normal/mul Mul\n",
      "fc2/truncated_normal Add\n",
      "fc2/weight VariableV2\n",
      "fc2/weight/Assign Assign\n",
      "fc2/weight/read Identity\n",
      "fc2/bias/initial_value Const\n",
      "fc2/bias VariableV2\n",
      "fc2/bias/Assign Assign\n",
      "fc2/bias/read Identity\n",
      "fc2/MatMul MatMul\n",
      "fc2/logits BiasAdd\n"
     ]
    }
   ],
   "source": [
    "for n in graph.as_graph_def().node:\n",
    "    print(n.name, n.op)"
   ]
  },
  {
   "cell_type": "code",
   "execution_count": 24,
   "metadata": {},
   "outputs": [
    {
     "name": "stdout",
     "output_type": "stream",
     "text": [
      "remove old log directory\n"
     ]
    }
   ],
   "source": [
    "if os.path.exists(\"log/simple_cnn\"):\n",
    "    print(\"remove old log directory\")\n",
    "    shutil.rmtree(\"log/simple_cnn\")\n",
    "\n",
    "tf.summary.FileWriter(logdir=\"log/simple_cnn\", graph=graph).close()"
   ]
  },
  {
   "cell_type": "code",
   "execution_count": 25,
   "metadata": {},
   "outputs": [
    {
     "name": "stdout",
     "output_type": "stream",
     "text": [
      "/usr/local/Cellar/python3/3.6.3/Frameworks/Python.framework/Versions/3.6/lib/python3.6/importlib/_bootstrap.py:219: RuntimeWarning: compiletime version 3.5 of module 'tensorflow.python.framework.fast_tensor_util' does not match runtime version 3.6\n",
      "  return f(*args, **kwds)\n",
      "TensorBoard 0.4.0rc2 at http://MacBook-Pro.local:3691 (Press CTRL+C to quit)\n",
      "^C\n"
     ]
    }
   ],
   "source": [
    "!tensorboard --logdir=log/simple_cnn --port 3691"
   ]
  },
  {
   "cell_type": "code",
   "execution_count": 52,
   "metadata": {},
   "outputs": [],
   "source": [
    "class ValueUpdator(object):\n",
    "    \n",
    "    def __init__(self, init_value, grow_rate):\n",
    "        self.grow_rate = grow_rate\n",
    "        self._current_value = init_value\n",
    "        self._init_value = init_value\n",
    "    \n",
    "    def get_current_value(self, max_value=None, dtype=int):\n",
    "        if max_value and self._current_value >= max_value:\n",
    "            current_value = max_value\n",
    "            self._current_value = max_value\n",
    "        else:\n",
    "            current_value = self._current_value\n",
    "            self._current_value *= self.grow_rate\n",
    "        return dtype(current_value)\n",
    "    \n",
    "    def reset(self):\n",
    "        self._current_value = self._init_value\n",
    "    \n",
    "    def __str__(self):\n",
    "        return \"ValueUpdator: {}\".format(self._current_value)"
   ]
  },
  {
   "cell_type": "code",
   "execution_count": 53,
   "metadata": {},
   "outputs": [],
   "source": [
    "x = np.arange(0, 500)\n",
    "y = 50*np.array(1.011)**x"
   ]
  },
  {
   "cell_type": "code",
   "execution_count": 54,
   "metadata": {},
   "outputs": [
    {
     "data": {
      "text/plain": [
       "3975.8705951757797"
      ]
     },
     "execution_count": 54,
     "metadata": {},
     "output_type": "execute_result"
    }
   ],
   "source": [
    "y[400]"
   ]
  },
  {
   "cell_type": "code",
   "execution_count": 55,
   "metadata": {},
   "outputs": [
    {
     "data": {
      "text/plain": [
       "[<matplotlib.lines.Line2D at 0x1160ccbe0>]"
      ]
     },
     "execution_count": 55,
     "metadata": {},
     "output_type": "execute_result"
    },
    {
     "data": {
      "image/png": "[encoded data removed]",
      "text/plain": [
       "<matplotlib.figure.Figure at 0x1163b8198>"
      ]
     },
     "metadata": {},
     "output_type": "display_data"
    }
   ],
   "source": [
    "plt.plot(x, y)"
   ]
  },
  {
   "cell_type": "code",
   "execution_count": 56,
   "metadata": {},
   "outputs": [],
   "source": [
    "batch_updator = ValueUpdator(50, 1.011) # grow the size by 1.2% for every batch"
   ]
  },
  {
   "cell_type": "code",
   "execution_count": 57,
   "metadata": {},
   "outputs": [
    {
     "data": {
      "text/plain": [
       "[<matplotlib.lines.Line2D at 0x115fdd278>]"
      ]
     },
     "execution_count": 57,
     "metadata": {},
     "output_type": "execute_result"
    },
    {
     "data": {
      "image/png": "[encoded data removed]",
      "text/plain": [
       "<matplotlib.figure.Figure at 0x1160b35c0>"
      ]
     },
     "metadata": {},
     "output_type": "display_data"
    }
   ],
   "source": [
    "plt.plot([batch_updator.get_current_value(max_value=4524) for _ in range(500)])"
   ]
  },
  {
   "cell_type": "code",
   "execution_count": 58,
   "metadata": {},
   "outputs": [],
   "source": [
    "batch_updator.reset()"
   ]
  },
  {
   "cell_type": "code",
   "execution_count": 60,
   "metadata": {},
   "outputs": [
    {
     "name": "stdout",
     "output_type": "stream",
     "text": [
      "ValueUpdator: 50\n"
     ]
    }
   ],
   "source": [
    "print(batch_updator)"
   ]
  },
  {
   "cell_type": "code",
   "execution_count": null,
   "metadata": {},
   "outputs": [],
   "source": []
  }
 ],
 "metadata": {
  "kernelspec": {
   "display_name": "Python 3",
   "language": "python",
   "name": "python3"
  },
  "language_info": {
   "codemirror_mode": {
    "name": "ipython",
    "version": 3
   },
   "file_extension": ".py",
   "mimetype": "text/x-python",
   "name": "python",
   "nbconvert_exporter": "python",
   "pygments_lexer": "ipython3",
   "version": "3.6.3"
  }
 },
 "nbformat": 4,
 "nbformat_minor": 2
}
